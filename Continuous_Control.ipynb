{
 "cells": [
  {
   "cell_type": "markdown",
   "metadata": {},
   "source": [
    "# Continuous Control\n",
    "\n",
    "---\n",
    "\n",
    "### 1. Start the Environment"
   ]
  },
  {
   "cell_type": "code",
   "execution_count": 1,
   "metadata": {},
   "outputs": [
    {
     "name": "stderr",
     "output_type": "stream",
     "text": [
      "INFO:unityagents:\n",
      "'Academy' started successfully!\n",
      "Unity Academy name: Academy\n",
      "        Number of Brains: 1\n",
      "        Number of External Brains : 1\n",
      "        Lesson number : 0\n",
      "        Reset Parameters :\n",
      "\t\tgoal_speed -> 1.0\n",
      "\t\tgoal_size -> 5.0\n",
      "Unity brain name: ReacherBrain\n",
      "        Number of Visual Observations (per agent): 0\n",
      "        Vector Observation space type: continuous\n",
      "        Vector Observation space size (per agent): 33\n",
      "        Number of stacked Vector Observation: 1\n",
      "        Vector Action space type: continuous\n",
      "        Vector Action space size (per agent): 4\n",
      "        Vector Action descriptions: , , , \n"
     ]
    }
   ],
   "source": [
    "from unityagents import UnityEnvironment\n",
    "import numpy as np\n",
    "\n",
    "import torch\n",
    "from collections import deque \n",
    "import matplotlib.pyplot as plt \n",
    "%matplotlib inline\n",
    "\n",
    "from ddpg_agent import Agent\n",
    "\n",
    "# select this option to load version 2 (with 20 agents) of the environment\n",
    "env = UnityEnvironment('Reacher20_Linux/Reacher.x86_64')   # Linux\n",
    "#env = UnityEnvironment('Reacher20.app')                              # OSX"
   ]
  },
  {
   "cell_type": "markdown",
   "metadata": {},
   "source": [
    "Environments contain **_brains_** which are responsible for deciding the actions of their associated agents. Here we check for the first brain available, and set it as the default brain we will be controlling from Python."
   ]
  },
  {
   "cell_type": "code",
   "execution_count": 2,
   "metadata": {},
   "outputs": [],
   "source": [
    "# get the default brain\n",
    "brain_name = env.brain_names[0]\n",
    "brain = env.brains[brain_name]"
   ]
  },
  {
   "cell_type": "markdown",
   "metadata": {},
   "source": [
    "### 2. Examine the State and Action Spaces\n",
    "\n",
    "Run the code cell below to print some information about the environment."
   ]
  },
  {
   "cell_type": "code",
   "execution_count": 3,
   "metadata": {},
   "outputs": [
    {
     "name": "stdout",
     "output_type": "stream",
     "text": [
      "Number of agents: 20\n",
      "Size of each action: 4\n",
      "There are 20 agents. Each observes a state with length: 33\n",
      "The state for the first agent looks like: [ 0.00000000e+00 -4.00000000e+00  0.00000000e+00  1.00000000e+00\n",
      " -0.00000000e+00 -0.00000000e+00 -4.37113883e-08  0.00000000e+00\n",
      "  0.00000000e+00  0.00000000e+00  0.00000000e+00  0.00000000e+00\n",
      "  0.00000000e+00  0.00000000e+00 -1.00000000e+01  0.00000000e+00\n",
      "  1.00000000e+00 -0.00000000e+00 -0.00000000e+00 -4.37113883e-08\n",
      "  0.00000000e+00  0.00000000e+00  0.00000000e+00  0.00000000e+00\n",
      "  0.00000000e+00  0.00000000e+00  5.75471878e+00 -1.00000000e+00\n",
      "  5.55726624e+00  0.00000000e+00  1.00000000e+00  0.00000000e+00\n",
      " -1.68164849e-01]\n"
     ]
    }
   ],
   "source": [
    "# reset the environment\n",
    "env_info = env.reset(train_mode=True)[brain_name]\n",
    "\n",
    "# number of agents\n",
    "num_agents = len(env_info.agents)\n",
    "print('Number of agents:', num_agents)\n",
    "\n",
    "# size of each action\n",
    "action_size = brain.vector_action_space_size\n",
    "print('Size of each action:', action_size)\n",
    "\n",
    "# examine the state space \n",
    "states = env_info.vector_observations\n",
    "state_size = states.shape[1]\n",
    "print('There are {} agents. Each observes a state with length: {}'.format(states.shape[0], state_size))\n",
    "print('The state for the first agent looks like:', states[0])"
   ]
  },
  {
   "cell_type": "markdown",
   "metadata": {},
   "source": [
    "### 3. Take Random Actions in the Environment\n",
    "\n",
    "In the next code cell, you will learn how to use the Python API to control the agent and receive feedback from the environment.\n",
    "\n",
    "Note that **in this coding environment, you will not be able to watch the agents while they are training**, and you should set `train_mode=True` to restart the environment."
   ]
  },
  {
   "cell_type": "code",
   "execution_count": 4,
   "metadata": {},
   "outputs": [
    {
     "name": "stdout",
     "output_type": "stream",
     "text": [
      "Total score (averaged over agents) this episode: 0.0944999978877604\n"
     ]
    }
   ],
   "source": [
    "env_info = env.reset(train_mode=True)[brain_name]      # reset the environment    \n",
    "states = env_info.vector_observations                  # get the current state (for each agent)\n",
    "scores = np.zeros(num_agents)                          # initialize the score (for each agent)\n",
    "while True:\n",
    "    actions = np.random.randn(num_agents, action_size) # select an action (for each agent)\n",
    "    actions = np.clip(actions, -1, 1)                  # all actions between -1 and 1\n",
    "    env_info = env.step(actions)[brain_name]           # send all actions to tne environment\n",
    "    next_states = env_info.vector_observations         # get next state (for each agent)\n",
    "    rewards = env_info.rewards                         # get reward (for each agent)\n",
    "    dones = env_info.local_done                        # see if episode finished\n",
    "    scores += env_info.rewards                         # update the score (for each agent)\n",
    "    states = next_states                               # roll over states to next time step\n",
    "    if np.any(dones):                                  # exit loop if episode finished\n",
    "        break\n",
    "print('Total score (averaged over agents) this episode: {}'.format(np.mean(scores)))"
   ]
  },
  {
   "cell_type": "markdown",
   "metadata": {},
   "source": [
    "When finished, you can close the environment."
   ]
  },
  {
   "cell_type": "code",
   "execution_count": 5,
   "metadata": {},
   "outputs": [],
   "source": [
    "#env.close()"
   ]
  },
  {
   "cell_type": "markdown",
   "metadata": {},
   "source": [
    "### 4. It's Your Turn!\n",
    "\n",
    "Now it's your turn to train your own agent to solve the environment!  A few **important notes**:\n",
    "- When training the environment, set `train_mode=True`, so that the line for resetting the environment looks like the following:\n",
    "```python\n",
    "env_info = env.reset(train_mode=True)[brain_name]\n",
    "```\n",
    "- To structure your work, you're welcome to work directly in this Jupyter notebook, or you might like to start over with a new file!  You can see the list of files in the workspace by clicking on **_Jupyter_** in the top left corner of the notebook.\n",
    "- In this coding environment, you will not be able to watch the agents while they are training.  However, **_after training the agents_**, you can download the saved model weights to watch the agents on your own machine! "
   ]
  },
  {
   "cell_type": "code",
   "execution_count": 6,
   "metadata": {},
   "outputs": [],
   "source": [
    "random_seed = 20\n",
    "actor_fc1_units, actor_fc2_units, critic_fcs1_units, critic_fc2_units = 256, 128, 256, 128\n",
    "agent = Agent(state_size=state_size, action_size=action_size, random_seed=random_seed, num_agents=num_agents, actor_fc1_units=actor_fc1_units, actor_fc2_units=actor_fc2_units, critic_fc1_units=critic_fcs1_units, critic_fc2_units=critic_fc2_units)"
   ]
  },
  {
   "cell_type": "code",
   "execution_count": 7,
   "metadata": {},
   "outputs": [],
   "source": [
    "def ddpg(n_episodes=1000, max_t=1000):\n",
    "    scores_deque = deque(maxlen=100)\n",
    "    scores = []         # average score history for each episode\n",
    "\n",
    "    max_score = -np.Inf\n",
    "    for i_episode in range(1, n_episodes+1):\n",
    "        env_info = env.reset(train_mode=True)[brain_name]\n",
    "        states = env_info.vector_observations\n",
    "        \n",
    "        agent.reset()  \n",
    "        episode_scores = np.zeros(num_agents)\n",
    "        \n",
    "        for t in range(max_t):\n",
    "            actions = agent.act(states)\n",
    "            env_info = env.step(actions)[brain_name]\n",
    "            next_states = env_info.vector_observations\n",
    "            rewards = env_info.rewards\n",
    "            dones = env_info.local_done\n",
    "            agent.step(t, states, actions, rewards, next_states, dones)\n",
    "            states = next_states\n",
    "            episode_scores += rewards\n",
    "            \n",
    "            if np.any(dones):\n",
    "                break \n",
    "    \n",
    "        avg_episode_score = np.mean(episode_scores)  \n",
    "        scores_deque.append(avg_episode_score)             \n",
    "        scores.append(avg_episode_score)                       \n",
    "        \n",
    "        avg_score = np.mean(scores_deque)                     \n",
    "        print('\\rEpisode {}\\tAverage Score: {:.2f}'.format(i_episode, avg_score), end=\"\")  \n",
    "        \n",
    "        if i_episode % 100 == 0:      # Save model every 100 episode\n",
    "            torch.save(agent.actor_local.state_dict(), 'checkpoint_actor.pth')\n",
    "            torch.save(agent.critic_local.state_dict(), 'checkpoint_critic.pth')\n",
    "            print('\\rEpisode {}\\tAverage Score: {:.2f}'.format(i_episode, avg_score)) \n",
    "            \n",
    "        if avg_score > 30.0:\n",
    "            torch.save(agent.actor_local.state_dict(), 'solved_checkpoint_actor.pth')\n",
    "            torch.save(agent.critic_local.state_dict(), 'solved_checkpoint_critic.pth')\n",
    "            print('\\rEpisode {}\\tAverage Score: {:.2f}\\tProblem Solved!'.format(i_episode, avg_score))               \n",
    "            \n",
    "    return scores"
   ]
  },
  {
   "cell_type": "code",
   "execution_count": 8,
   "metadata": {},
   "outputs": [],
   "source": [
    "def plot_scores(scores):\n",
    "    # Plot the scores\n",
    "    fig = plt.figure()\n",
    "    ax = fig.add_subplot(111)\n",
    "    plt.plot(np.arange(1, len(scores)+1), scores)\n",
    "    plt.ylabel('Score')\n",
    "    plt.xlabel('Episode #')\n",
    "    plt.show()"
   ]
  },
  {
   "cell_type": "code",
   "execution_count": 9,
   "metadata": {
    "scrolled": false
   },
   "outputs": [
    {
     "name": "stdout",
     "output_type": "stream",
     "text": [
      "Episode 100\tAverage Score: 8.56\n",
      "Episode 200\tAverage Score: 19.68\n",
      "Episode 300\tAverage Score: 27.92\n",
      "Episode 366\tAverage Score: 30.01\tProblem Solved!\n",
      "Episode 367\tAverage Score: 30.06\tProblem Solved!\n",
      "Episode 368\tAverage Score: 30.11\tProblem Solved!\n",
      "Episode 369\tAverage Score: 30.14\tProblem Solved!\n",
      "Episode 370\tAverage Score: 30.16\tProblem Solved!\n",
      "Episode 371\tAverage Score: 30.22\tProblem Solved!\n",
      "Episode 372\tAverage Score: 30.28\tProblem Solved!\n",
      "Episode 373\tAverage Score: 30.31\tProblem Solved!\n",
      "Episode 374\tAverage Score: 30.36\tProblem Solved!\n",
      "Episode 375\tAverage Score: 30.41\tProblem Solved!\n",
      "Episode 376\tAverage Score: 30.45\tProblem Solved!\n",
      "Episode 377\tAverage Score: 30.49\tProblem Solved!\n",
      "Episode 378\tAverage Score: 30.53\tProblem Solved!\n",
      "Episode 379\tAverage Score: 30.57\tProblem Solved!\n",
      "Episode 380\tAverage Score: 30.59\tProblem Solved!\n",
      "Episode 381\tAverage Score: 30.61\tProblem Solved!\n",
      "Episode 382\tAverage Score: 30.65\tProblem Solved!\n",
      "Episode 383\tAverage Score: 30.65\tProblem Solved!\n",
      "Episode 384\tAverage Score: 30.64\tProblem Solved!\n",
      "Episode 385\tAverage Score: 30.65\tProblem Solved!\n",
      "Episode 386\tAverage Score: 30.66\tProblem Solved!\n",
      "Episode 387\tAverage Score: 30.68\tProblem Solved!\n",
      "Episode 388\tAverage Score: 30.71\tProblem Solved!\n",
      "Episode 389\tAverage Score: 30.74\tProblem Solved!\n",
      "Episode 390\tAverage Score: 30.77\tProblem Solved!\n",
      "Episode 391\tAverage Score: 30.81\tProblem Solved!\n",
      "Episode 392\tAverage Score: 30.86\tProblem Solved!\n",
      "Episode 393\tAverage Score: 30.91\tProblem Solved!\n",
      "Episode 394\tAverage Score: 30.95\tProblem Solved!\n",
      "Episode 395\tAverage Score: 30.98\tProblem Solved!\n",
      "Episode 396\tAverage Score: 31.02\tProblem Solved!\n",
      "Episode 397\tAverage Score: 31.04\tProblem Solved!\n",
      "Episode 398\tAverage Score: 31.08\tProblem Solved!\n",
      "Episode 399\tAverage Score: 31.09\tProblem Solved!\n",
      "Episode 400\tAverage Score: 31.12\n",
      "Episode 400\tAverage Score: 31.12\tProblem Solved!\n",
      "Episode 401\tAverage Score: 31.13\tProblem Solved!\n",
      "Episode 402\tAverage Score: 31.17\tProblem Solved!\n",
      "Episode 403\tAverage Score: 31.21\tProblem Solved!\n",
      "Episode 404\tAverage Score: 31.29\tProblem Solved!\n",
      "Episode 405\tAverage Score: 31.36\tProblem Solved!\n",
      "Episode 406\tAverage Score: 31.41\tProblem Solved!\n",
      "Episode 407\tAverage Score: 31.44\tProblem Solved!\n",
      "Episode 408\tAverage Score: 31.49\tProblem Solved!\n",
      "Episode 409\tAverage Score: 31.55\tProblem Solved!\n",
      "Episode 410\tAverage Score: 31.60\tProblem Solved!\n",
      "Episode 411\tAverage Score: 31.65\tProblem Solved!\n",
      "Episode 412\tAverage Score: 31.69\tProblem Solved!\n",
      "Episode 413\tAverage Score: 31.74\tProblem Solved!\n",
      "Episode 414\tAverage Score: 31.79\tProblem Solved!\n",
      "Episode 415\tAverage Score: 31.84\tProblem Solved!\n",
      "Episode 416\tAverage Score: 31.88\tProblem Solved!\n",
      "Episode 417\tAverage Score: 31.92\tProblem Solved!\n",
      "Episode 418\tAverage Score: 31.94\tProblem Solved!\n",
      "Episode 419\tAverage Score: 32.00\tProblem Solved!\n",
      "Episode 420\tAverage Score: 32.00\tProblem Solved!\n",
      "Episode 421\tAverage Score: 32.03\tProblem Solved!\n",
      "Episode 422\tAverage Score: 32.06\tProblem Solved!\n",
      "Episode 423\tAverage Score: 32.12\tProblem Solved!\n",
      "Episode 424\tAverage Score: 32.14\tProblem Solved!\n",
      "Episode 425\tAverage Score: 32.17\tProblem Solved!\n",
      "Episode 426\tAverage Score: 32.19\tProblem Solved!\n",
      "Episode 427\tAverage Score: 32.22\tProblem Solved!\n",
      "Episode 428\tAverage Score: 32.28\tProblem Solved!\n",
      "Episode 429\tAverage Score: 32.30\tProblem Solved!\n",
      "Episode 430\tAverage Score: 32.31\tProblem Solved!\n",
      "Episode 431\tAverage Score: 32.35\tProblem Solved!\n",
      "Episode 432\tAverage Score: 32.38\tProblem Solved!\n",
      "Episode 433\tAverage Score: 32.40\tProblem Solved!\n",
      "Episode 434\tAverage Score: 32.40\tProblem Solved!\n",
      "Episode 435\tAverage Score: 32.44\tProblem Solved!\n",
      "Episode 436\tAverage Score: 32.48\tProblem Solved!\n",
      "Episode 437\tAverage Score: 32.51\tProblem Solved!\n",
      "Episode 438\tAverage Score: 32.53\tProblem Solved!\n",
      "Episode 439\tAverage Score: 32.56\tProblem Solved!\n",
      "Episode 440\tAverage Score: 32.59\tProblem Solved!\n",
      "Episode 441\tAverage Score: 32.62\tProblem Solved!\n",
      "Episode 442\tAverage Score: 32.67\tProblem Solved!\n",
      "Episode 443\tAverage Score: 32.68\tProblem Solved!\n",
      "Episode 444\tAverage Score: 32.70\tProblem Solved!\n",
      "Episode 445\tAverage Score: 32.72\tProblem Solved!\n",
      "Episode 446\tAverage Score: 32.74\tProblem Solved!\n",
      "Episode 447\tAverage Score: 32.77\tProblem Solved!\n",
      "Episode 448\tAverage Score: 32.82\tProblem Solved!\n",
      "Episode 449\tAverage Score: 32.84\tProblem Solved!\n",
      "Episode 450\tAverage Score: 32.87\tProblem Solved!\n",
      "Episode 451\tAverage Score: 32.89\tProblem Solved!\n",
      "Episode 452\tAverage Score: 32.92\tProblem Solved!\n",
      "Episode 453\tAverage Score: 32.96\tProblem Solved!\n",
      "Episode 454\tAverage Score: 32.99\tProblem Solved!\n",
      "Episode 455\tAverage Score: 33.02\tProblem Solved!\n",
      "Episode 456\tAverage Score: 33.05\tProblem Solved!\n",
      "Episode 457\tAverage Score: 33.08\tProblem Solved!\n",
      "Episode 458\tAverage Score: 33.13\tProblem Solved!\n",
      "Episode 459\tAverage Score: 33.13\tProblem Solved!\n",
      "Episode 460\tAverage Score: 33.14\tProblem Solved!\n",
      "Episode 461\tAverage Score: 33.16\tProblem Solved!\n",
      "Episode 462\tAverage Score: 33.18\tProblem Solved!\n",
      "Episode 463\tAverage Score: 33.20\tProblem Solved!\n",
      "Episode 464\tAverage Score: 33.21\tProblem Solved!\n",
      "Episode 465\tAverage Score: 33.21\tProblem Solved!\n",
      "Episode 466\tAverage Score: 33.22\tProblem Solved!\n",
      "Episode 467\tAverage Score: 33.22\tProblem Solved!\n",
      "Episode 468\tAverage Score: 33.22\tProblem Solved!\n",
      "Episode 469\tAverage Score: 33.24\tProblem Solved!\n",
      "Episode 470\tAverage Score: 33.24\tProblem Solved!\n",
      "Episode 471\tAverage Score: 33.22\tProblem Solved!\n",
      "Episode 472\tAverage Score: 33.20\tProblem Solved!\n",
      "Episode 473\tAverage Score: 33.17\tProblem Solved!\n",
      "Episode 474\tAverage Score: 33.15\tProblem Solved!\n",
      "Episode 475\tAverage Score: 33.12\tProblem Solved!\n",
      "Episode 476\tAverage Score: 33.10\tProblem Solved!\n",
      "Episode 477\tAverage Score: 33.09\tProblem Solved!\n",
      "Episode 478\tAverage Score: 33.08\tProblem Solved!\n",
      "Episode 479\tAverage Score: 33.08\tProblem Solved!\n",
      "Episode 480\tAverage Score: 33.06\tProblem Solved!\n",
      "Episode 481\tAverage Score: 33.04\tProblem Solved!\n",
      "Episode 482\tAverage Score: 33.01\tProblem Solved!\n",
      "Episode 483\tAverage Score: 33.00\tProblem Solved!\n",
      "Episode 484\tAverage Score: 32.98\tProblem Solved!\n",
      "Episode 485\tAverage Score: 32.98\tProblem Solved!\n",
      "Episode 486\tAverage Score: 32.96\tProblem Solved!\n",
      "Episode 487\tAverage Score: 32.96\tProblem Solved!\n",
      "Episode 488\tAverage Score: 32.93\tProblem Solved!\n",
      "Episode 489\tAverage Score: 32.91\tProblem Solved!\n",
      "Episode 490\tAverage Score: 32.89\tProblem Solved!\n",
      "Episode 491\tAverage Score: 32.88\tProblem Solved!\n",
      "Episode 492\tAverage Score: 32.87\tProblem Solved!\n",
      "Episode 493\tAverage Score: 32.86\tProblem Solved!\n",
      "Episode 494\tAverage Score: 32.85\tProblem Solved!\n",
      "Episode 495\tAverage Score: 32.84\tProblem Solved!\n",
      "Episode 496\tAverage Score: 32.83\tProblem Solved!\n",
      "Episode 497\tAverage Score: 32.82\tProblem Solved!\n",
      "Episode 498\tAverage Score: 32.80\tProblem Solved!\n",
      "Episode 499\tAverage Score: 32.80\tProblem Solved!\n",
      "Episode 500\tAverage Score: 32.78\n",
      "Episode 500\tAverage Score: 32.78\tProblem Solved!\n"
     ]
    },
    {
     "data": {
      "image/png": "[encoded data removed]",
      "text/plain": [
       "<Figure size 432x288 with 1 Axes>"
      ]
     },
     "metadata": {
      "needs_background": "light"
     },
     "output_type": "display_data"
    }
   ],
   "source": [
    "scores = ddpg(500, 1000)\n",
    "plot_scores(scores)"
   ]
  },
  {
   "cell_type": "code",
   "execution_count": null,
   "metadata": {},
   "outputs": [],
   "source": []
  }
 ],
 "metadata": {
  "kernelspec": {
   "display_name": "drlnd",
   "language": "python",
   "name": "drlnd"
  },
  "language_info": {
   "codemirror_mode": {
    "name": "ipython",
    "version": 3
   },
   "file_extension": ".py",
   "mimetype": "text/x-python",
   "name": "python",
   "nbconvert_exporter": "python",
   "pygments_lexer": "ipython3",
   "version": "3.6.9"
  }
 },
 "nbformat": 4,
 "nbformat_minor": 2
}
